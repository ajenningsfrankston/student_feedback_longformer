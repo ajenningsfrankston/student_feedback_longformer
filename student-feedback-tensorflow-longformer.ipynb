{
 "metadata": {
  "kernelspec": {
   "language": "python",
   "display_name": "Python 3",
   "name": "python3"
  },
  "language_info": {
   "name": "python",
   "version": "3.7.12",
   "mimetype": "text/x-python",
   "codemirror_mode": {
    "name": "ipython",
    "version": 3
   },
   "pygments_lexer": "ipython3",
   "nbconvert_exporter": "python",
   "file_extension": ".py"
  }
 },
 "nbformat_minor": 4,
 "nbformat": 4,
 "cells": [
  {
   "cell_type": "markdown",
   "source": [
    "# TensorFlow LongFormer NER Baseline \n",
    "\n",
    "This notebook is a TensorFlow starter notebook for Kaggle's \"Feedback Prize - Evaluating Student Writing\" Competition. Currently this notebook uses\n",
    "* backbone LongFormer\n",
    "* NER formulation\n",
    "* one fold\n",
    "\n",
    "With simple changes, we can convert this notebook into Question Answer formulation and we can try different backbones. Furthermore this notebook is one fold. It trains with 90% data and validates on 10% data. We can convert this notebook to K-fold or train with 100% data for boost in LB.\n",
    "\n",
    "The transformer model LongFormer is explained [here][1]. It is similar to Roberta but can accept inputs as wide as 4096 tokens! In this notebook we feed the transformer with 1024 wide tokens. HuggingFace user AllenAI uploaded pretrained weights for us [here][2]. Kaggle discussion about this starter notebook is [here][4]\n",
    "\n",
    "[1]: https://huggingface.co/docs/transformers/model_doc/longformer\n",
    "[2]: https://huggingface.co/allenai/longformer-base-4096\n",
    "[3]: https://www.kaggle.com/cdeotte/pytorch-bigbird-ner-cv-0-615\n",
    "[4]: https://www.kaggle.com/c/feedback-prize-2021/discussion/295794"
   ],
   "metadata": {}
  },
  {
   "cell_type": "markdown",
   "source": [
    "# Added simple text spelling correction. "
   ],
   "metadata": {}
  },
  {
   "cell_type": "markdown",
   "source": [
    "# Configuration\n",
    "This notebook can either train a new model or load a previously trained model (made from previous notebook version). Furthermore, this notebook can either create new NER tokens or load existing tokens (made from previous notebook version). In this notebook version, we will load model and load NER tokens. \n",
    "\n",
    "Also this notebook can load huggingface stuff (like tokenizers) from a Kaggle dataset, or download it from internet. (If it downloads from internet, you can then put it in a Kaggle dataset, so next time you can turn internet off)."
   ],
   "metadata": {}
  },
  {
   "cell_type": "code",
   "execution_count": null,
   "outputs": [],
   "source": [
    "!pip install kaggle\n",
    "import zipfile\n",
    "\n",
    "!kaggle competitions download -c feedback-prize-2021 -p ../input/feedback-prize-2021\n",
    "\n",
    "with zipfile.ZipFile('../input/feedback-prize-2021/feedback-prize-2021.zip','r') as myzip:\n",
    "    myzip.extractall('../input/feedback-prize-2021')\n",
    "\n",
    "!kaggle datasets download -d cdeotte/tf-longformer-v12"
   ],
   "metadata": {
    "collapsed": false,
    "pycharm": {
     "name": "#%%\n"
    }
   }
  },
  {
   "cell_type": "code",
   "source": [
    "import os\n",
    "# DECLARE HOW MANY GPUS YOU WISH TO USE. \n",
    "# KAGGLE ONLY HAS 1, BUT OFFLINE, YOU CAN USE MORE\n",
    "os.environ[\"CUDA_VISIBLE_DEVICES\"]=\"1\" #0,1,2,3 for four gpu\n",
    "\n",
    "# VERSION FOR SAVING/LOADING MODEL WEIGHTS\n",
    "# THIS SHOULD MATCH THE MODEL IN LOAD_MODEL_FROM\n",
    "VER=1\n",
    "\n",
    "# IF VARIABLE IS NONE, THEN NOTEBOOK COMPUTES TOKENS\n",
    "# OTHERWISE NOTEBOOK LOADS TOKENS FROM PATH\n",
    "LOAD_TOKENS_FROM = '../input/tf-longformer-v12'\n",
    "\n",
    "# IF VARIABLE IS NONE, THEN NOTEBOOK TRAINS A NEW MODEL\n",
    "# OTHERWISE IT LOADS YOUR PREVIOUSLY TRAINED MODEL\n",
    "#LOAD_MODEL_FROM = '../input/tflongformerv14'\n",
    "LOAD_MODEL_FROM = None\n",
    "\n",
    "# IF FOLLOWING IS NONE, THEN NOTEBOOK \n",
    "# USES INTERNET AND DOWNLOADS HUGGINGFACE \n",
    "# CONFIG, TOKENIZER, AND MODEL\n",
    "DOWNLOADED_MODEL_PATH = '../input/tf-longformer-v12'\n",
    "\n",
    "if DOWNLOADED_MODEL_PATH is None:\n",
    "    DOWNLOADED_MODEL_PATH = 'model'    \n",
    "MODEL_NAME = 'allenai/longformer-base-4096'"
   ],
   "metadata": {
    "execution": {
     "iopub.status.busy": "2021-12-27T15:41:32.300223Z",
     "iopub.execute_input": "2021-12-27T15:41:32.300908Z",
     "iopub.status.idle": "2021-12-27T15:41:32.329581Z",
     "shell.execute_reply.started": "2021-12-27T15:41:32.300809Z",
     "shell.execute_reply": "2021-12-27T15:41:32.328697Z"
    },
    "trusted": true
   },
   "execution_count": null,
   "outputs": []
  },
  {
   "cell_type": "markdown",
   "source": "# How To Submit TensorFlow Without Internet\nMany people ask me, how do I submit TensorFlow models without internet? With HuggingFace Transformer, it's easy. Just download the following 3 things (1) model weights, (2) tokenizer files, (3) config file, and upload them to a Kaggle dataset. Below shows code how to get the files from HuggingFace for AllenAI's model `longformer-base`. But this same code can download any transformer, like for example `roberta-base`.",
   "metadata": {}
  },
  {
   "cell_type": "code",
   "source": "if DOWNLOADED_MODEL_PATH == 'model':\n    os.mkdir('model')\n    \n    tokenizer = AutoTokenizer.from_pretrained(MODEL_NAME)\n    tokenizer.save_pretrained('model')\n\n    config = AutoConfig.from_pretrained(MODEL_NAME) \n    config.save_pretrained('model')\n\n    backbone = TFAutoModel.from_pretrained(MODEL_NAME, config=config)\n    backbone.save_pretrained('model')",
   "metadata": {
    "execution": {
     "iopub.status.busy": "2021-12-27T15:41:32.331547Z",
     "iopub.execute_input": "2021-12-27T15:41:32.331853Z",
     "iopub.status.idle": "2021-12-27T15:41:32.341144Z",
     "shell.execute_reply.started": "2021-12-27T15:41:32.331814Z",
     "shell.execute_reply": "2021-12-27T15:41:32.340351Z"
    },
    "trusted": true
   },
   "execution_count": null,
   "outputs": []
  },
  {
   "cell_type": "markdown",
   "source": "The above saves the files\n* TOKENIZER FILES - merges.txt, tokenizer_config.json, special_tokens_map.json, tokenizer.json, vocab.json\n* CONFIG FILE - config.json\n* MODEL WEIGHT FILE - tf_model.h5\n\nThen just upload all these files to a Kaggle dataset, like what I did [here][1]. Then you load them into your notebook like the notebook you are reading. And we can turn internet off!\n\n[1]: https://www.kaggle.com/cdeotte/tf-longformer-v12",
   "metadata": {}
  },
  {
   "cell_type": "markdown",
   "source": "# Load Libraries",
   "metadata": {}
  },
  {
   "cell_type": "code",
   "source": "import pandas as pd, numpy as np\nimport matplotlib.pyplot as plt\nimport tensorflow as tf\nos.environ['TF_CPP_MIN_LOG_LEVEL'] = '3'\nfrom transformers import *\nprint('TF version',tf.__version__)",
   "metadata": {
    "execution": {
     "iopub.status.busy": "2021-12-27T15:41:32.342437Z",
     "iopub.execute_input": "2021-12-27T15:41:32.343296Z",
     "iopub.status.idle": "2021-12-27T15:41:42.627474Z",
     "shell.execute_reply.started": "2021-12-27T15:41:32.343257Z",
     "shell.execute_reply": "2021-12-27T15:41:42.626676Z"
    },
    "trusted": true
   },
   "execution_count": null,
   "outputs": []
  },
  {
   "cell_type": "code",
   "source": "# USE MULTIPLE GPUS\nif os.environ[\"CUDA_VISIBLE_DEVICES\"].count(',') == 0:\n    strategy = tf.distribute.get_strategy()\n    print('single strategy')\nelse:\n    strategy = tf.distribute.MirroredStrategy()\n    print('multiple strategy')",
   "metadata": {
    "execution": {
     "iopub.status.busy": "2021-12-27T15:41:42.63015Z",
     "iopub.execute_input": "2021-12-27T15:41:42.630423Z",
     "iopub.status.idle": "2021-12-27T15:41:42.6449Z",
     "shell.execute_reply.started": "2021-12-27T15:41:42.630383Z",
     "shell.execute_reply": "2021-12-27T15:41:42.643987Z"
    },
    "trusted": true
   },
   "execution_count": null,
   "outputs": []
  },
  {
   "cell_type": "code",
   "source": "tf.config.optimizer.set_experimental_options({\"auto_mixed_precision\": True})\nprint('Mixed precision enabled')",
   "metadata": {
    "execution": {
     "iopub.status.busy": "2021-12-27T15:41:42.646095Z",
     "iopub.execute_input": "2021-12-27T15:41:42.646875Z",
     "iopub.status.idle": "2021-12-27T15:41:42.65486Z",
     "shell.execute_reply.started": "2021-12-27T15:41:42.646839Z",
     "shell.execute_reply": "2021-12-27T15:41:42.65409Z"
    },
    "trusted": true
   },
   "execution_count": null,
   "outputs": []
  },
  {
   "cell_type": "markdown",
   "source": "# Load Train",
   "metadata": {}
  },
  {
   "cell_type": "code",
   "source": "train = pd.read_csv('../input/feedback-prize-2021/train.csv')\nprint( train.shape )\ntrain.head()",
   "metadata": {
    "execution": {
     "iopub.status.busy": "2021-12-27T15:41:42.656296Z",
     "iopub.execute_input": "2021-12-27T15:41:42.656544Z",
     "iopub.status.idle": "2021-12-27T15:41:44.932701Z",
     "shell.execute_reply.started": "2021-12-27T15:41:42.656512Z",
     "shell.execute_reply": "2021-12-27T15:41:44.931896Z"
    },
    "trusted": true
   },
   "execution_count": null,
   "outputs": []
  },
  {
   "cell_type": "code",
   "source": "from textblob import TextBlob\n\ntextBlb = \nwith open(\"text.txt\", \"r\") as f:        # Opening the test file with the intention to read\n    text = f.read()                     # Reading the file\n    textBlb = TextBlob(text)            # Making our first textblob\n    textCorrected = textBlb.correct()   # Correcting the text\n    print(textCorrected)",
   "metadata": {},
   "execution_count": null,
   "outputs": []
  },
  {
   "cell_type": "code",
   "source": "print('The train labels are:')\ntrain.discourse_type.unique()",
   "metadata": {
    "execution": {
     "iopub.status.busy": "2021-12-27T15:41:44.933936Z",
     "iopub.execute_input": "2021-12-27T15:41:44.934178Z",
     "iopub.status.idle": "2021-12-27T15:41:44.956709Z",
     "shell.execute_reply.started": "2021-12-27T15:41:44.934148Z",
     "shell.execute_reply": "2021-12-27T15:41:44.95591Z"
    },
    "trusted": true
   },
   "execution_count": null,
   "outputs": []
  },
  {
   "cell_type": "code",
   "source": "IDS = train.id.unique()\nprint('There are',len(IDS),'train texts.')",
   "metadata": {
    "execution": {
     "iopub.status.busy": "2021-12-27T15:41:44.958081Z",
     "iopub.execute_input": "2021-12-27T15:41:44.958339Z",
     "iopub.status.idle": "2021-12-27T15:41:44.976656Z",
     "shell.execute_reply.started": "2021-12-27T15:41:44.958304Z",
     "shell.execute_reply": "2021-12-27T15:41:44.975784Z"
    },
    "trusted": true
   },
   "execution_count": null,
   "outputs": []
  },
  {
   "cell_type": "markdown",
   "source": "# Tokenize Train\nThe following code converts Kaggle's train dataset into a NER token array that we can use to train a NER transformer. I have made it very clear which targets belong to which class. This allows us to very easily convert this code to `Question Answer formulation` if we want. Just change the 14 NER arrays to be 14 arrays of `start position` and `end position` for each of the 7 classes. (You will need to think creatively what to do if a single text has multiple of one class).",
   "metadata": {}
  },
  {
   "cell_type": "code",
   "source": "MAX_LEN = 1024\n\n# THE TOKENS AND ATTENTION ARRAYS\ntokenizer = AutoTokenizer.from_pretrained(DOWNLOADED_MODEL_PATH)\ntrain_tokens = np.zeros((len(IDS),MAX_LEN), dtype='int32')\ntrain_attention = np.zeros((len(IDS),MAX_LEN), dtype='int32')\n\n# THE 14 CLASSES FOR NER\nlead_b = np.zeros((len(IDS),MAX_LEN))\nlead_i = np.zeros((len(IDS),MAX_LEN))\n\nposition_b = np.zeros((len(IDS),MAX_LEN))\nposition_i = np.zeros((len(IDS),MAX_LEN))\n\nevidence_b = np.zeros((len(IDS),MAX_LEN))\nevidence_i = np.zeros((len(IDS),MAX_LEN))\n\nclaim_b = np.zeros((len(IDS),MAX_LEN))\nclaim_i = np.zeros((len(IDS),MAX_LEN))\n\nconclusion_b = np.zeros((len(IDS),MAX_LEN))\nconclusion_i = np.zeros((len(IDS),MAX_LEN))\n\ncounterclaim_b = np.zeros((len(IDS),MAX_LEN))\ncounterclaim_i = np.zeros((len(IDS),MAX_LEN))\n\nrebuttal_b = np.zeros((len(IDS),MAX_LEN))\nrebuttal_i = np.zeros((len(IDS),MAX_LEN))\n\n# HELPER VARIABLES\ntrain_lens = []\ntargets_b = [lead_b, position_b, evidence_b, claim_b, conclusion_b, counterclaim_b, rebuttal_b]\ntargets_i = [lead_i, position_i, evidence_i, claim_i, conclusion_i, counterclaim_i, rebuttal_i]\ntarget_map = {'Lead':0, 'Position':1, 'Evidence':2, 'Claim':3, 'Concluding Statement':4,\n             'Counterclaim':5, 'Rebuttal':6}",
   "metadata": {
    "execution": {
     "iopub.status.busy": "2021-12-27T15:41:44.978841Z",
     "iopub.execute_input": "2021-12-27T15:41:44.979321Z",
     "iopub.status.idle": "2021-12-27T15:41:45.130585Z",
     "shell.execute_reply.started": "2021-12-27T15:41:44.979282Z",
     "shell.execute_reply": "2021-12-27T15:41:45.12987Z"
    },
    "trusted": true
   },
   "execution_count": null,
   "outputs": []
  },
  {
   "cell_type": "code",
   "source": "from textblob import TextBlob\n",
   "metadata": {},
   "execution_count": null,
   "outputs": []
  },
  {
   "cell_type": "code",
   "source": "# WE ASSUME DATAFRAME IS ASCENDING WHICH IT IS\nassert( np.sum(train.groupby('id')['discourse_start'].diff()<=0)==0 )\n\n# FOR LOOP THROUGH EACH TRAIN TEXT\nfor id_num in range(len(IDS)):\n    if LOAD_TOKENS_FROM: break\n    if id_num%100==0: print(id_num,', ',end='')\n        \n    # READ TRAIN TEXT, TOKENIZE, AND SAVE IN TOKEN ARRAYS    \n    n = IDS[id_num]\n    name = f'../input/feedback-prize-2021/train/{n}.txt'\n    r_txt = open(name, 'r').read()\n    textBLb = TextBlob(r_txt)\n    txt = textBLb.correct()\n    train_lens.append( len(txt.split()))\n    tokens = tokenizer.encode_plus(txt, max_length=MAX_LEN, padding='max_length',\n                                   truncation=True, return_offsets_mapping=True)\n    train_tokens[id_num,] = tokens['input_ids']\n    train_attention[id_num,] = tokens['attention_mask']\n    \n    # FIND TARGETS IN TEXT AND SAVE IN TARGET ARRAYS\n    offsets = tokens['offset_mapping']\n    offset_index = 0\n    df = train.loc[train.id==n]\n    for index,row in df.iterrows():\n        a = row.discourse_start\n        b = row.discourse_end\n        if offset_index>len(offsets)-1:\n            break\n        c = offsets[offset_index][0]\n        d = offsets[offset_index][1]\n        beginning = True\n        while b>c:\n            if (c>=a)&(b>=d):\n                k = target_map[row.discourse_type]\n                if beginning:\n                    targets_b[k][id_num][offset_index] = 1\n                    beginning = False\n                else:\n                    targets_i[k][id_num][offset_index] = 1\n            offset_index += 1\n            if offset_index>len(offsets)-1:\n                break\n            c = offsets[offset_index][0]\n            d = offsets[offset_index][1]",
   "metadata": {
    "execution": {
     "iopub.status.busy": "2021-12-27T15:41:45.134446Z",
     "iopub.execute_input": "2021-12-27T15:41:45.134986Z",
     "iopub.status.idle": "2021-12-27T15:41:47.585734Z",
     "shell.execute_reply.started": "2021-12-27T15:41:45.134943Z",
     "shell.execute_reply": "2021-12-27T15:41:47.585016Z"
    },
    "trusted": true
   },
   "execution_count": null,
   "outputs": []
  },
  {
   "cell_type": "code",
   "source": "if LOAD_TOKENS_FROM is None:\n    plt.hist(train_lens,bins=100)\n    plt.title('Histogram of Train Word Counts',size=16)\n    plt.xlabel('Train Word Count',size=14)\n    plt.show()",
   "metadata": {
    "execution": {
     "iopub.status.busy": "2021-12-27T15:41:47.586915Z",
     "iopub.execute_input": "2021-12-27T15:41:47.587198Z",
     "iopub.status.idle": "2021-12-27T15:41:47.594361Z",
     "shell.execute_reply.started": "2021-12-27T15:41:47.587163Z",
     "shell.execute_reply": "2021-12-27T15:41:47.593659Z"
    },
    "trusted": true
   },
   "execution_count": null,
   "outputs": []
  },
  {
   "cell_type": "markdown",
   "source": "![](https://raw.githubusercontent.com/cdeotte/Kaggle_Images/main/Dec-2021/lengths4.png)\n\nFrom the histogram of train word counts above, we see that using a transformer width of 1024 is a good comprise of capturing most of the data's signal but not having too large a model. (Note that analyzing a histogram of train **token** counts would be better but we don't do that here). We could probably explore other widths between 512 and 1024 also. Or we could use widths of size 512 or smaller and use a stride which breaks a single text into multiple chunks (with possible overlap).",
   "metadata": {}
  },
  {
   "cell_type": "code",
   "source": "if LOAD_TOKENS_FROM is None:\n    targets = np.zeros((len(IDS),MAX_LEN,15), dtype='int32')\n    for k in range(7):\n        targets[:,:,2*k] = targets_b[k]\n        targets[:,:,2*k+1] = targets_i[k]\n    targets[:,:,14] = 1-np.max(targets,axis=-1)",
   "metadata": {
    "execution": {
     "iopub.status.busy": "2021-12-27T15:41:47.595664Z",
     "iopub.execute_input": "2021-12-27T15:41:47.595917Z",
     "iopub.status.idle": "2021-12-27T15:41:47.602751Z",
     "shell.execute_reply.started": "2021-12-27T15:41:47.595882Z",
     "shell.execute_reply": "2021-12-27T15:41:47.602022Z"
    },
    "trusted": true
   },
   "execution_count": null,
   "outputs": []
  },
  {
   "cell_type": "code",
   "source": "if LOAD_TOKENS_FROM is None:\n    np.save(f'targets_{MAX_LEN}', targets)\n    np.save(f'tokens_{MAX_LEN}', train_tokens)\n    np.save(f'attention_{MAX_LEN}', train_attention)\n    print('Saved NER tokens')\nelse:\n    targets = np.load(f'{LOAD_TOKENS_FROM}/targets_{MAX_LEN}.npy')\n    train_tokens = np.load(f'{LOAD_TOKENS_FROM}/tokens_{MAX_LEN}.npy')\n    train_attention = np.load(f'{LOAD_TOKENS_FROM}/attention_{MAX_LEN}.npy')\n    print('Loaded NER tokens')",
   "metadata": {
    "execution": {
     "iopub.status.busy": "2021-12-27T15:41:47.604853Z",
     "iopub.execute_input": "2021-12-27T15:41:47.606213Z",
     "iopub.status.idle": "2021-12-27T15:41:55.76342Z",
     "shell.execute_reply.started": "2021-12-27T15:41:47.60618Z",
     "shell.execute_reply": "2021-12-27T15:41:55.762641Z"
    },
    "trusted": true
   },
   "execution_count": null,
   "outputs": []
  },
  {
   "cell_type": "markdown",
   "source": "# Build Model\nWe will use LongFormer backbone and add our own NER head using one hidden layer of size 256 and one final layer with softmax. We use 15 classes because we have a `B` class and `I` class for each of 7 labels. And we have an additional class (called `O` class) for tokens that do not belong to one of the 14 classes.",
   "metadata": {}
  },
  {
   "cell_type": "code",
   "source": "def build_model():\n    \n    tokens = tf.keras.layers.Input(shape=(MAX_LEN,), name = 'tokens', dtype=tf.int32)\n    attention = tf.keras.layers.Input(shape=(MAX_LEN,), name = 'attention', dtype=tf.int32)\n    \n    config = AutoConfig.from_pretrained(DOWNLOADED_MODEL_PATH+'/config.json') \n    backbone = TFAutoModel.from_pretrained(DOWNLOADED_MODEL_PATH+'/tf_model.h5', config=config)\n    \n    x = backbone(tokens, attention_mask=attention)\n    x = tf.keras.layers.Dense(256, activation='relu')(x[0])\n    x = tf.keras.layers.Dense(15, activation='softmax', dtype='float32')(x)\n    \n    model = tf.keras.Model(inputs=[tokens,attention], outputs=x)\n    model.compile(optimizer = tf.keras.optimizers.Adam(lr = 1e-4),\n                  loss = [tf.keras.losses.CategoricalCrossentropy()],\n                  metrics = [tf.keras.metrics.CategoricalAccuracy()])\n    \n    return model",
   "metadata": {
    "execution": {
     "iopub.status.busy": "2021-12-27T15:41:55.764737Z",
     "iopub.execute_input": "2021-12-27T15:41:55.764998Z",
     "iopub.status.idle": "2021-12-27T15:41:55.774784Z",
     "shell.execute_reply.started": "2021-12-27T15:41:55.764949Z",
     "shell.execute_reply": "2021-12-27T15:41:55.773836Z"
    },
    "trusted": true
   },
   "execution_count": null,
   "outputs": []
  },
  {
   "cell_type": "code",
   "source": "with strategy.scope():\n    model = build_model()",
   "metadata": {
    "execution": {
     "iopub.status.busy": "2021-12-27T15:41:55.776464Z",
     "iopub.execute_input": "2021-12-27T15:41:55.776742Z",
     "iopub.status.idle": "2021-12-27T15:42:28.325831Z",
     "shell.execute_reply.started": "2021-12-27T15:41:55.776705Z",
     "shell.execute_reply": "2021-12-27T15:42:28.324003Z"
    },
    "trusted": true
   },
   "execution_count": null,
   "outputs": []
  },
  {
   "cell_type": "markdown",
   "source": "# Train or Load Model\nIf you provide a path in variable `LOAD_MODEL_FROM` above, then it will load your previously trained model. Otherwise it will train now. \n\nThe model which is loaded in versions 1 thru 4 of this notebook were trained offline using 5 epochs of batch size 32 and learning rate `1e4` for the first four and `1e5` for the last epoch. That model was trained using 4xV100 GPU. \n\nVersion 5 of this notebook loads a model that was trained in a Kaggle notebook by user @kaggleqrdl in his notebook version 20 [here][1]. Please upvote Qrdl's notebook :-) Qrdl has been running experiments and found a great learning rate to use when training with small batch size.\n\nWhen training on Kaggle's 1xP100 GPU, we need to reduce the batch size to 4. And we reduce the learning rates to `0.25e-4` and `0.25e-5`. I have updated the batch size and learning rate below so that it is ready to train in a Kaggle notebook! (Each training epoch on Kaggle takes 1 hour 8 minutes).\n\n[1]: https://www.kaggle.com/kaggleqrdl/v4expmt-tensorflow-longformer-ner-cv-0-634?scriptVersionId=83341823",
   "metadata": {}
  },
  {
   "cell_type": "code",
   "source": "# LEARNING RATE SCHEDULE AND MODEL CHECKPOINT\nEPOCHS = 5\nBATCH_SIZE = 4 \nLRS = [0.25e-4, 0.25e-4, 0.25e-4, 0.25e-4, 0.25e-5] \ndef lrfn(epoch):\n    return LRS[epoch]\nlr_callback = tf.keras.callbacks.LearningRateScheduler(lrfn, verbose = True)",
   "metadata": {
    "execution": {
     "iopub.status.busy": "2021-12-27T15:42:28.32729Z",
     "iopub.execute_input": "2021-12-27T15:42:28.327533Z",
     "iopub.status.idle": "2021-12-27T15:42:28.334488Z",
     "shell.execute_reply.started": "2021-12-27T15:42:28.327499Z",
     "shell.execute_reply": "2021-12-27T15:42:28.333734Z"
    },
    "trusted": true
   },
   "execution_count": null,
   "outputs": []
  },
  {
   "cell_type": "code",
   "source": "# TRAIN VALID SPLIT 90% 10%\nnp.random.seed(42)\ntrain_idx = np.random.choice(np.arange(len(IDS)),int(0.9*len(IDS)),replace=False)\nvalid_idx = np.setdiff1d(np.arange(len(IDS)),train_idx)\nnp.random.seed(None)\nprint('Train size',len(train_idx),', Valid size',len(valid_idx))",
   "metadata": {
    "execution": {
     "iopub.status.busy": "2021-12-27T15:42:28.335903Z",
     "iopub.execute_input": "2021-12-27T15:42:28.336195Z",
     "iopub.status.idle": "2021-12-27T15:42:28.350352Z",
     "shell.execute_reply.started": "2021-12-27T15:42:28.336159Z",
     "shell.execute_reply": "2021-12-27T15:42:28.349657Z"
    },
    "trusted": true
   },
   "execution_count": null,
   "outputs": []
  },
  {
   "cell_type": "code",
   "source": "# LOAD MODEL\nif LOAD_MODEL_FROM:\n    model.load_weights(f'{LOAD_MODEL_FROM}/long_v{VER}.h5')\n    \n# OR TRAIN MODEL\nelse:\n    model.fit(x = [train_tokens[train_idx,], train_attention[train_idx,]],\n          y = targets[train_idx,],\n          validation_data = ([train_tokens[valid_idx,], train_attention[valid_idx,]],\n                             targets[valid_idx,]),\n          callbacks = [lr_callback],\n          epochs = EPOCHS,\n          batch_size = BATCH_SIZE,\n          verbose = 2)\n\n    # SAVE MODEL WEIGHTS\n    model.save_weights(f'long_v{VER}.h5')",
   "metadata": {
    "scrolled": true,
    "execution": {
     "iopub.status.busy": "2021-12-27T15:42:28.35209Z",
     "iopub.execute_input": "2021-12-27T15:42:28.352573Z",
     "iopub.status.idle": "2021-12-27T15:42:36.31384Z",
     "shell.execute_reply.started": "2021-12-27T15:42:28.352537Z",
     "shell.execute_reply": "2021-12-27T15:42:36.313104Z"
    },
    "trusted": true
   },
   "execution_count": null,
   "outputs": []
  },
  {
   "cell_type": "markdown",
   "source": "# Validate Model - Infer OOF\nWe will now make predictions on the validation texts. Our model makes label predictions for each token, we need to convert this into a list of word indices for each label. Note that the tokens and words are not the same. A single word may be broken into multiple tokens. Therefore we need to first create a map to change token indices to word indices.",
   "metadata": {}
  },
  {
   "cell_type": "code",
   "source": "p = model.predict([train_tokens[valid_idx,], train_attention[valid_idx,]], \n                  batch_size=16, verbose=2)\nprint('OOF predictions shape:',p.shape)\noof_preds = np.argmax(p,axis=-1)",
   "metadata": {
    "execution": {
     "iopub.status.busy": "2021-12-27T15:42:36.315298Z",
     "iopub.execute_input": "2021-12-27T15:42:36.315534Z",
     "iopub.status.idle": "2021-12-27T15:45:44.041492Z",
     "shell.execute_reply.started": "2021-12-27T15:42:36.315501Z",
     "shell.execute_reply": "2021-12-27T15:45:44.038601Z"
    },
    "trusted": true
   },
   "execution_count": null,
   "outputs": []
  },
  {
   "cell_type": "code",
   "source": "target_map_rev = {0:'Lead', 1:'Position', 2:'Evidence', 3:'Claim', 4:'Concluding Statement',\n             5:'Counterclaim', 6:'Rebuttal', 7:'blank'}",
   "metadata": {
    "execution": {
     "iopub.status.busy": "2021-12-27T15:45:44.043037Z",
     "iopub.execute_input": "2021-12-27T15:45:44.043559Z",
     "iopub.status.idle": "2021-12-27T15:45:44.048697Z",
     "shell.execute_reply.started": "2021-12-27T15:45:44.043517Z",
     "shell.execute_reply": "2021-12-27T15:45:44.048017Z"
    },
    "trusted": true
   },
   "execution_count": null,
   "outputs": []
  },
  {
   "cell_type": "code",
   "source": "def get_preds(dataset='train', verbose=True, text_ids=IDS[valid_idx], preds=oof_preds):\n    all_predictions = []\n\n    for id_num in range(len(preds)):\n    \n        # GET ID\n        if (id_num%100==0)&(verbose): \n            print(id_num,', ',end='')\n        n = text_ids[id_num]\n    \n        # GET TOKEN POSITIONS IN CHARS\n        name = f'../input/feedback-prize-2021/{dataset}/{n}.txt'\n        txt = open(name, 'r').read()\n        tokens = tokenizer.encode_plus(txt, max_length=MAX_LEN, padding='max_length',\n                                   truncation=True, return_offsets_mapping=True)\n        off = tokens['offset_mapping']\n    \n        # GET WORD POSITIONS IN CHARS\n        w = []\n        blank = True\n        for i in range(len(txt)):\n            if (txt[i]!=' ')&(txt[i]!='\\n')&(txt[i]!='\\xa0')&(txt[i]!='\\x85')&(blank==True):\n                w.append(i)\n                blank=False\n            elif (txt[i]==' ')|(txt[i]=='\\n')|(txt[i]=='\\xa0')|(txt[i]=='\\x85'):\n                blank=True\n        w.append(1e6)\n            \n        # MAPPING FROM TOKENS TO WORDS\n        word_map = -1 * np.ones(MAX_LEN,dtype='int32')\n        w_i = 0\n        for i in range(len(off)):\n            if off[i][1]==0: continue\n            while off[i][0]>=w[w_i+1]: w_i += 1\n            word_map[i] = int(w_i)\n        \n        # CONVERT TOKEN PREDICTIONS INTO WORD LABELS\n        ### KEY: ###\n        # 0: LEAD_B, 1: LEAD_I\n        # 2: POSITION_B, 3: POSITION_I\n        # 4: EVIDENCE_B, 5: EVIDENCE_I\n        # 6: CLAIM_B, 7: CLAIM_I\n        # 8: CONCLUSION_B, 9: CONCLUSION_I\n        # 10: COUNTERCLAIM_B, 11: COUNTERCLAIM_I\n        # 12: REBUTTAL_B, 13: REBUTTAL_I\n        # 14: NOTHING i.e. O\n        ### NOTE THESE VALUES ARE DIVIDED BY 2 IN NEXT CODE LINE\n        pred = preds[id_num,]/2.0\n    \n        i = 0\n        while i<MAX_LEN:\n            prediction = []\n            start = pred[i]\n            if start in [0,1,2,3,4,5,6,7]:\n                prediction.append(word_map[i])\n                i += 1\n                if i>=MAX_LEN: break\n                while pred[i]==start+0.5:\n                    if not word_map[i] in prediction:\n                        prediction.append(word_map[i])\n                    i += 1\n                    if i>=MAX_LEN: break\n            else:\n                i += 1\n            prediction = [x for x in prediction if x!=-1]\n            if len(prediction)>4:\n                all_predictions.append( (n, target_map_rev[int(start)], \n                                ' '.join([str(x) for x in prediction]) ) )\n                \n    # MAKE DATAFRAME\n    df = pd.DataFrame(all_predictions)\n    df.columns = ['id','class','predictionstring']\n    \n    return df",
   "metadata": {
    "execution": {
     "iopub.status.busy": "2021-12-27T15:45:44.050299Z",
     "iopub.execute_input": "2021-12-27T15:45:44.050736Z",
     "iopub.status.idle": "2021-12-27T15:45:44.074404Z",
     "shell.execute_reply.started": "2021-12-27T15:45:44.050699Z",
     "shell.execute_reply": "2021-12-27T15:45:44.073591Z"
    },
    "trusted": true
   },
   "execution_count": null,
   "outputs": []
  },
  {
   "cell_type": "code",
   "source": "oof = get_preds( dataset='train', verbose=True, text_ids=IDS[valid_idx] )\noof.head()",
   "metadata": {
    "execution": {
     "iopub.status.busy": "2021-12-27T15:45:44.075791Z",
     "iopub.execute_input": "2021-12-27T15:45:44.076239Z",
     "iopub.status.idle": "2021-12-27T15:46:10.026664Z",
     "shell.execute_reply.started": "2021-12-27T15:45:44.076202Z",
     "shell.execute_reply": "2021-12-27T15:46:10.025922Z"
    },
    "trusted": true
   },
   "execution_count": null,
   "outputs": []
  },
  {
   "cell_type": "code",
   "source": "print('The following classes are present in oof preds:')\noof['class'].unique()",
   "metadata": {
    "execution": {
     "iopub.status.busy": "2021-12-27T15:46:10.027997Z",
     "iopub.execute_input": "2021-12-27T15:46:10.028386Z",
     "iopub.status.idle": "2021-12-27T15:46:10.03884Z",
     "shell.execute_reply.started": "2021-12-27T15:46:10.028346Z",
     "shell.execute_reply": "2021-12-27T15:46:10.037867Z"
    },
    "trusted": true
   },
   "execution_count": null,
   "outputs": []
  },
  {
   "cell_type": "markdown",
   "source": "# Compute Validation Metric\nThe following code is from Rob Mulla's excellent notebook [here][2]. Our LongFormer single fold model achieves CV score 0.633! Hooray!\n\n[2]: https://www.kaggle.com/robikscube/student-writing-competition-twitch",
   "metadata": {}
  },
  {
   "cell_type": "code",
   "source": "# CODE FROM : Rob Mulla @robikscube\n# https://www.kaggle.com/robikscube/student-writing-competition-twitch\ndef calc_overlap(row):\n    \"\"\"\n    Calculates the overlap between prediction and\n    ground truth and overlap percentages used for determining\n    true positives.\n    \"\"\"\n    set_pred = set(row.predictionstring_pred.split(' '))\n    set_gt = set(row.predictionstring_gt.split(' '))\n    # Length of each and intersection\n    len_gt = len(set_gt)\n    len_pred = len(set_pred)\n    inter = len(set_gt.intersection(set_pred))\n    overlap_1 = inter / len_gt\n    overlap_2 = inter/ len_pred\n    return [overlap_1, overlap_2]\n\n\ndef score_feedback_comp(pred_df, gt_df):\n    \"\"\"\n    A function that scores for the kaggle\n        Student Writing Competition\n        \n    Uses the steps in the evaluation page here:\n        https://www.kaggle.com/c/feedback-prize-2021/overview/evaluation\n    \"\"\"\n    gt_df = gt_df[['id','discourse_type','predictionstring']] \\\n        .reset_index(drop=True).copy()\n    pred_df = pred_df[['id','class','predictionstring']] \\\n        .reset_index(drop=True).copy()\n    pred_df['pred_id'] = pred_df.index\n    gt_df['gt_id'] = gt_df.index\n    # Step 1. all ground truths and predictions for a given class are compared.\n    joined = pred_df.merge(gt_df,\n                           left_on=['id','class'],\n                           right_on=['id','discourse_type'],\n                           how='outer',\n                           suffixes=('_pred','_gt')\n                          )\n    joined['predictionstring_gt'] = joined['predictionstring_gt'].fillna(' ')\n    joined['predictionstring_pred'] = joined['predictionstring_pred'].fillna(' ')\n\n    joined['overlaps'] = joined.apply(calc_overlap, axis=1)\n\n    # 2. If the overlap between the ground truth and prediction is >= 0.5, \n    # and the overlap between the prediction and the ground truth >= 0.5,\n    # the prediction is a match and considered a true positive.\n    # If multiple matches exist, the match with the highest pair of overlaps is taken.\n    joined['overlap1'] = joined['overlaps'].apply(lambda x: eval(str(x))[0])\n    joined['overlap2'] = joined['overlaps'].apply(lambda x: eval(str(x))[1])\n\n\n    joined['potential_TP'] = (joined['overlap1'] >= 0.5) & (joined['overlap2'] >= 0.5)\n    joined['max_overlap'] = joined[['overlap1','overlap2']].max(axis=1)\n    tp_pred_ids = joined.query('potential_TP') \\\n        .sort_values('max_overlap', ascending=False) \\\n        .groupby(['id','predictionstring_gt']).first()['pred_id'].values\n\n    # 3. Any unmatched ground truths are false negatives\n    # and any unmatched predictions are false positives.\n    fp_pred_ids = [p for p in joined['pred_id'].unique() if p not in tp_pred_ids]\n\n    matched_gt_ids = joined.query('potential_TP')['gt_id'].unique()\n    unmatched_gt_ids = [c for c in joined['gt_id'].unique() if c not in matched_gt_ids]\n\n    # Get numbers of each type\n    TP = len(tp_pred_ids)\n    FP = len(fp_pred_ids)\n    FN = len(unmatched_gt_ids)\n    #calc microf1\n    my_f1_score = TP / (TP + 0.5*(FP+FN))\n    return my_f1_score",
   "metadata": {
    "execution": {
     "iopub.status.busy": "2021-12-27T15:46:10.04053Z",
     "iopub.execute_input": "2021-12-27T15:46:10.040828Z",
     "iopub.status.idle": "2021-12-27T15:46:10.064592Z",
     "shell.execute_reply.started": "2021-12-27T15:46:10.040792Z",
     "shell.execute_reply": "2021-12-27T15:46:10.063754Z"
    },
    "trusted": true
   },
   "execution_count": null,
   "outputs": []
  },
  {
   "cell_type": "code",
   "source": "# VALID DATAFRAME\nvalid = train.loc[train['id'].isin(IDS[valid_idx])]",
   "metadata": {
    "execution": {
     "iopub.status.busy": "2021-12-27T15:46:10.06586Z",
     "iopub.execute_input": "2021-12-27T15:46:10.066591Z",
     "iopub.status.idle": "2021-12-27T15:46:10.104755Z",
     "shell.execute_reply.started": "2021-12-27T15:46:10.066554Z",
     "shell.execute_reply": "2021-12-27T15:46:10.104013Z"
    },
    "trusted": true
   },
   "execution_count": null,
   "outputs": []
  },
  {
   "cell_type": "code",
   "source": "f1s = []\nCLASSES = oof['class'].unique()\nfor c in CLASSES:\n    pred_df = oof.loc[oof['class']==c].copy()\n    gt_df = valid.loc[valid['discourse_type']==c].copy()\n    f1 = score_feedback_comp(pred_df, gt_df)\n    print(c,f1)\n    f1s.append(f1)\nprint()\nprint('Overall',np.mean(f1s))",
   "metadata": {
    "execution": {
     "iopub.status.busy": "2021-12-27T15:46:10.106161Z",
     "iopub.execute_input": "2021-12-27T15:46:10.1064Z",
     "iopub.status.idle": "2021-12-27T15:46:12.638345Z",
     "shell.execute_reply.started": "2021-12-27T15:46:10.106365Z",
     "shell.execute_reply": "2021-12-27T15:46:12.637616Z"
    },
    "trusted": true
   },
   "execution_count": null,
   "outputs": []
  },
  {
   "cell_type": "markdown",
   "source": "# Infer Test Data\nWe will now infer the test data and create a submission. Our CV is 0.633, let's see what our LB is!",
   "metadata": {}
  },
  {
   "cell_type": "code",
   "source": "# GET TEST TEXT IDS\nfiles = os.listdir('../input/feedback-prize-2021/test')\nTEST_IDS = [f.replace('.txt','') for f in files if 'txt' in f]\nprint('There are',len(TEST_IDS),'test texts.')",
   "metadata": {
    "execution": {
     "iopub.status.busy": "2021-12-27T15:46:12.639664Z",
     "iopub.execute_input": "2021-12-27T15:46:12.640079Z",
     "iopub.status.idle": "2021-12-27T15:46:12.651401Z",
     "shell.execute_reply.started": "2021-12-27T15:46:12.640038Z",
     "shell.execute_reply": "2021-12-27T15:46:12.65053Z"
    },
    "trusted": true
   },
   "execution_count": null,
   "outputs": []
  },
  {
   "cell_type": "code",
   "source": "# CONVERT TEST TEXT TO TOKENS\ntest_tokens = np.zeros((len(TEST_IDS),MAX_LEN), dtype='int32')\ntest_attention = np.zeros((len(TEST_IDS),MAX_LEN), dtype='int32')\n\nfor id_num in range(len(TEST_IDS)):\n        \n    # READ TRAIN TEXT, TOKENIZE, AND SAVE IN TOKEN ARRAYS    \n    n = TEST_IDS[id_num]\n    name = f'../input/feedback-prize-2021/test/{n}.txt'\n    r_txt = open(name, 'r').read()\n    textBLb = TextBlob(r_txt)\n    txt = textBLb.correct()\n    tokens = tokenizer.encode_plus(txt, max_length=MAX_LEN, padding='max_length',\n                                   truncation=True, return_offsets_mapping=True)\n    test_tokens[id_num,] = tokens['input_ids']\n    test_attention[id_num,] = tokens['attention_mask']",
   "metadata": {
    "execution": {
     "iopub.status.busy": "2021-12-27T15:46:12.656546Z",
     "iopub.execute_input": "2021-12-27T15:46:12.657093Z",
     "iopub.status.idle": "2021-12-27T15:46:12.708995Z",
     "shell.execute_reply.started": "2021-12-27T15:46:12.657057Z",
     "shell.execute_reply": "2021-12-27T15:46:12.708266Z"
    },
    "trusted": true
   },
   "execution_count": null,
   "outputs": []
  },
  {
   "cell_type": "code",
   "source": "# INFER TEST TEXTS\np = model.predict([test_tokens, test_attention], \n                  batch_size=16, verbose=2)\nprint('Test predictions shape:',p.shape)\ntest_preds = np.argmax(p,axis=-1)",
   "metadata": {
    "execution": {
     "iopub.status.busy": "2021-12-27T15:46:12.723799Z",
     "iopub.execute_input": "2021-12-27T15:46:12.724289Z",
     "iopub.status.idle": "2021-12-27T15:46:13.381325Z",
     "shell.execute_reply.started": "2021-12-27T15:46:12.724253Z",
     "shell.execute_reply": "2021-12-27T15:46:13.380421Z"
    },
    "trusted": true
   },
   "execution_count": null,
   "outputs": []
  },
  {
   "cell_type": "markdown",
   "source": "# Write Submission CSV",
   "metadata": {}
  },
  {
   "cell_type": "code",
   "source": "# GET TEST PREDICIONS\nsub = get_preds( dataset='test', verbose=False, text_ids=TEST_IDS, preds=test_preds )\nsub.head()",
   "metadata": {
    "execution": {
     "iopub.status.busy": "2021-12-27T15:46:13.383017Z",
     "iopub.execute_input": "2021-12-27T15:46:13.383283Z",
     "iopub.status.idle": "2021-12-27T15:46:13.474506Z",
     "shell.execute_reply.started": "2021-12-27T15:46:13.383247Z",
     "shell.execute_reply": "2021-12-27T15:46:13.473808Z"
    },
    "trusted": true
   },
   "execution_count": null,
   "outputs": []
  },
  {
   "cell_type": "code",
   "source": "# WRITE SUBMISSION CSV\nsub.to_csv('submission.csv',index=False)",
   "metadata": {
    "execution": {
     "iopub.status.busy": "2021-12-27T15:46:13.475889Z",
     "iopub.execute_input": "2021-12-27T15:46:13.476437Z",
     "iopub.status.idle": "2021-12-27T15:46:13.483533Z",
     "shell.execute_reply.started": "2021-12-27T15:46:13.4764Z",
     "shell.execute_reply": "2021-12-27T15:46:13.482811Z"
    },
    "trusted": true
   },
   "execution_count": null,
   "outputs": []
  }
 ]
}